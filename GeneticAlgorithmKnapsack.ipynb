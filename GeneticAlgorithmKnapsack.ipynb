{
  "cells": [
    {
      "cell_type": "markdown",
      "metadata": {
        "id": "view-in-github",
        "colab_type": "text"
      },
      "source": [
        "<a href=\"https://colab.research.google.com/github/AmirHesamKamalpour/Genetic-Algorithm-solving-0-1-Knapsack/blob/main/GeneticAlgorithmKnapsack.ipynb\" target=\"_parent\"><img src=\"https://colab.research.google.com/assets/colab-badge.svg\" alt=\"Open In Colab\"/></a>"
      ]
    },
    {
      "cell_type": "code",
      "execution_count": null,
      "metadata": {
        "id": "wWeSFOtQOBP5"
      },
      "outputs": [],
      "source": [
        "import numpy as np\n",
        "import time\n",
        "import math\n",
        "import concurrent.futures"
      ]
    },
    {
      "cell_type": "code",
      "execution_count": null,
      "metadata": {
        "id": "GuMwT9-BfBvQ"
      },
      "outputs": [],
      "source": [
        "def BuildRandomPopulation(pSize : int, N: int):\n",
        "  population = np.random.randint(2, size=(pSize, N))\n",
        "  return population"
      ]
    },
    {
      "cell_type": "code",
      "execution_count": null,
      "metadata": {
        "id": "QtrbRso3jvjF"
      },
      "outputs": [],
      "source": [
        "def Fitness(Chromosome, W, weights, profits):\n",
        "  fitness = 0\n",
        "  occupiedWeight = 0\n",
        "\n",
        "  for index, gene in enumerate(Chromosome):\n",
        "    occupiedWeight += gene * weights[index]\n",
        "    fitness += gene * profits[index]\n",
        "\n",
        "  return fitness if occupiedWeight <= W else 0"
      ]
    },
    {
      "cell_type": "code",
      "execution_count": null,
      "metadata": {
        "id": "ofv0tQUCvGAe"
      },
      "outputs": [],
      "source": [
        "def AddEpsilon(fitness_values, epsilon=1e-6):\n",
        "    adjusted_fitness = fitness_values + epsilon\n",
        "    return adjusted_fitness"
      ]
    },
    {
      "cell_type": "code",
      "execution_count": null,
      "metadata": {
        "id": "5bDHCcOtpNdc"
      },
      "outputs": [],
      "source": [
        "def SelectParents(population, W, weights, profits, numNewPopulation): # Roulette wheel selection is applied\n",
        "  fitnesses = []\n",
        "  parents = np.zeros(population.shape)\n",
        "  for row in range(population.shape[0]):\n",
        "    fitnesses.append(Fitness(population[row], W, weights, profits))\n",
        "\n",
        "  fitnesses = AddEpsilon(np.array(fitnesses))\n",
        "  cumulativeProbs = np.cumsum(fitnesses) / fitnesses.sum()\n",
        "  randomNumbers = np.random.rand(numNewPopulation)\n",
        "\n",
        "  for index, randomNumber in enumerate(randomNumbers):\n",
        "    selectedindex = np.searchsorted(cumulativeProbs, randomNumber)\n",
        "    parents[index] = population[selectedindex]\n",
        "\n",
        "  return parents"
      ]
    },
    {
      "cell_type": "code",
      "execution_count": null,
      "metadata": {
        "id": "XXokovu0enPK"
      },
      "outputs": [],
      "source": [
        "def TwoPointCrossOver(parents, crossOverChance=0.85):\n",
        "  offsprings = np.zeros(parents.shape)\n",
        "  crossOverPoints = np.random.randint(1, parents.shape[1], size=(2,))\n",
        "  crossOverPoints.sort()\n",
        "  i = 0\n",
        "  while i + 2 <= parents.shape[0]:\n",
        "    if np.random.random() < crossOverChance:\n",
        "      offsprings[i] = np.concatenate((parents[i][:crossOverPoints[0]], parents[i + 1][crossOverPoints[0]:crossOverPoints[1]], parents[i][crossOverPoints[1]:]))\n",
        "      offsprings[i + 1] = np.concatenate((parents[i + 1][:crossOverPoints[0]], parents[i][crossOverPoints[0]:crossOverPoints[1]], parents[i + 1][crossOverPoints[1]:]))\n",
        "    else:\n",
        "      offsprings[i] = parents[i]\n",
        "      offsprings[i + 1] = parents[i + 1]\n",
        "    i += 2\n",
        "  return offsprings"
      ]
    },
    {
      "cell_type": "code",
      "execution_count": null,
      "metadata": {
        "id": "9gw9qElD42Da"
      },
      "outputs": [],
      "source": [
        "def SinglePointCrossOver(parents, crossOverChance = .85):\n",
        "  offsprings = np.zeros(parents.shape)\n",
        "  crossOverPoint = np.random.randint(1, parents.shape[1])\n",
        "  i = 0\n",
        "  while i+2 <= parents.shape[0]:\n",
        "\n",
        "    if np.random.random() < crossOverChance:\n",
        "\n",
        "      offsprings[i] = np.concatenate((parents[i][:crossOverPoint], parents[i+1][crossOverPoint:]))\n",
        "      offsprings[i+1] = np.concatenate((parents[i+1][:crossOverPoint], parents[i][crossOverPoint:]))\n",
        "\n",
        "    else:\n",
        "\n",
        "      offsprings[i] = parents[i]\n",
        "      offsprings[i+1] = parents[i+1]\n",
        "\n",
        "    i += 2\n",
        "\n",
        "  return offsprings"
      ]
    },
    {
      "cell_type": "code",
      "execution_count": null,
      "metadata": {
        "id": "glvUMgagVf17"
      },
      "outputs": [],
      "source": [
        "def Mutation(offsprings, mutationChance = .01):\n",
        "  mutatedOffsprings = offsprings.copy()\n",
        "  mutationChances = np.random.random(offsprings.shape)\n",
        "  mutatedOffsprings[mutationChances < mutationChance] = np.logical_not(mutatedOffsprings[mutationChances < mutationChance]).astype(int)\n",
        "  return mutatedOffsprings"
      ]
    },
    {
      "cell_type": "code",
      "execution_count": null,
      "metadata": {
        "id": "qiN-l2wjyVuB"
      },
      "outputs": [],
      "source": [
        "def RunProgram(iterations, num, weightLimit ,weights, profits, identicalFitLimit = .80, populationSize = 500):\n",
        "\n",
        "  a = BuildRandomPopulation(populationSize, num)\n",
        "  b = SelectParents(a, weightLimit, weights, profits, populationSize)\n",
        "  c = TwoPointCrossOver(b)\n",
        "  d = Mutation(c)\n",
        "\n",
        "  iterationNumber = 0\n",
        "  for i in range(iterations ** 2):\n",
        "    iterationNumber +=1\n",
        "    unq, cnt = np.unique(d, axis=0, return_counts=True)\n",
        "    if (cnt.max() / populationSize) >= identicalFitLimit and i >= iterations:\n",
        "      print(\"Number of generations: \",iterationNumber)\n",
        "      return unq[cnt.argmax()]\n",
        "    b = SelectParents(d, weightLimit, weights, profits, populationSize)\n",
        "    c = TwoPointCrossOver(b)\n",
        "    d = Mutation(c)\n",
        "\n",
        "  unq, cnt = np.unique(d, axis=0, return_counts=True)\n",
        "  print(\"Number of generations: \",iterationNumber)\n",
        "  return unq[cnt.argmax()]"
      ]
    },
    {
      "cell_type": "code",
      "execution_count": null,
      "metadata": {
        "colab": {
          "base_uri": "https://localhost:8080/"
        },
        "id": "c8LUqvzHwkqw",
        "outputId": "b781b3c3-83bf-46aa-e51f-f47d8589e97d"
      },
      "outputs": [
        {
          "name": "stdout",
          "output_type": "stream",
          "text": [
            "Enter the number of items: 10\n",
            "Enter the maximum weight limit: 165\n",
            "Enter the values of items: 92 57 49 68 60 43 67 84 87 72\n",
            "Enter the weights of items: 23 31 29 44 53 38 63 85 89 82\n"
          ]
        }
      ],
      "source": [
        "N = int(input(\"Enter the number of items: \"))\n",
        "W = int(input(\"Enter the maximum weight limit: \"))\n",
        "profits = [int(x) for x in input(\"Enter the values of items: \").split()]\n",
        "weights = [int(x) for x in input(\"Enter the weights of items: \").split()]"
      ]
    },
    {
      "cell_type": "code",
      "execution_count": null,
      "metadata": {
        "id": "OBAP4g3BbA8S"
      },
      "outputs": [],
      "source": [
        "def RunProgramOnThread(threadsNum):\n",
        "\n",
        "  with concurrent.futures.ThreadPoolExecutor() as executor:\n",
        "    chromo = np.zeros((threadsNum,N))\n",
        "    results = [executor.submit(RunProgram, int(math.pow(2,N))) for _ in range(threadsNum)]\n",
        "    for index, f in enumerate(concurrent.futures.as_completed(results)):\n",
        "      chromo[index] = f.result()\n",
        "  unq, cnt = np.unique(chromo, axis=0, return_counts=True)\n",
        "  print(unq[cnt.argmax()])"
      ]
    },
    {
      "cell_type": "code",
      "execution_count": null,
      "metadata": {
        "id": "4IQUDTOAry6G"
      },
      "outputs": [],
      "source": [
        "def MultiProcessingProgram(processNum):\n",
        "  with concurrent.futures.ProcessPoolExecutor() as executor:\n",
        "    chromo = np.zeros((processNum,N))\n",
        "    results = [executor.submit(RunProgram, int(math.pow(2,N-1)), N, W, weights, profits) for _ in range(processNum)]\n",
        "    for index, f in enumerate(concurrent.futures.as_completed(results)):\n",
        "      chromo[index] = f.result()\n",
        "  unq, cnt = np.unique(chromo, axis=0, return_counts=True)\n",
        "  print(unq[cnt.argmax()])"
      ]
    },
    {
      "cell_type": "code",
      "execution_count": null,
      "metadata": {
        "colab": {
          "background_save": true,
          "base_uri": "https://localhost:8080/"
        },
        "id": "gzkXrSQ3tTFM",
        "outputId": "51e9e038-00b3-4286-da56-59a90ae41597"
      },
      "outputs": [
        {
          "name": "stdout",
          "output_type": "stream",
          "text": [
            "Number of generations:  567\n",
            "Number of generations:  567\n",
            "Number of generations:  514\n",
            "Number of generations:  514\n",
            "Number of generations:  533\n",
            "Number of generations:  533\n",
            "[1. 1. 1. 1. 0. 1. 0. 0. 0. 0.]\n",
            "--- 62.68116807937622 seconds ---\n"
          ]
        }
      ],
      "source": [
        "start_time = time.time()\n",
        "MultiProcessingProgram(6)\n",
        "print(\"--- %s seconds ---\" % (time.time() - start_time))"
      ]
    },
    {
      "cell_type": "code",
      "execution_count": null,
      "metadata": {
        "colab": {
          "background_save": true,
          "base_uri": "https://localhost:8080/"
        },
        "id": "o599qHDMwZpF",
        "outputId": "22a23583-3334-4dc3-a126-33bcbbcf5d4a"
      },
      "outputs": [
        {
          "name": "stdout",
          "output_type": "stream",
          "text": [
            "Number of generations:  567\n",
            "[1. 1. 1. 1. 0. 1. 0. 0. 0. 0.]\n",
            "--- 16.40669894218445 seconds ---\n"
          ]
        }
      ],
      "source": [
        "start_time = time.time()\n",
        "print(RunProgram(int(math.pow(2,N-1)), N, W, weights, profits))\n",
        "print(\"--- %s seconds ---\" % (time.time() - start_time))"
      ]
    },
    {
      "cell_type": "code",
      "execution_count": null,
      "metadata": {
        "id": "wFG8d9owYEkD"
      },
      "outputs": [],
      "source": [
        "7\n",
        "170\n",
        "442 525 511 593 546 564 617\n",
        "41 50 49 59 55 57 60\n",
        "[0. 1. 0. 1. 0. 0. 1.]"
      ]
    },
    {
      "cell_type": "code",
      "execution_count": null,
      "metadata": {
        "id": "if-ZVPBucppE"
      },
      "outputs": [],
      "source": [
        "[1 0 1 0 1 0 1 1 1 0 0 0 0 1 1]"
      ]
    }
  ],
  "metadata": {
    "accelerator": "GPU",
    "colab": {
      "provenance": [],
      "authorship_tag": "ABX9TyPFDMvA6lhPM8OLlv/0aLHt",
      "include_colab_link": true
    },
    "kernelspec": {
      "display_name": "Python 3",
      "name": "python3"
    },
    "language_info": {
      "name": "python"
    }
  },
  "nbformat": 4,
  "nbformat_minor": 0
}